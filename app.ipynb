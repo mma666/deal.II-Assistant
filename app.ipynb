{
 "cells": [
  {
   "cell_type": "markdown",
   "id": "728f1747-b8fc-4d31-96c2-047fc83c079d",
   "metadata": {},
   "source": [
    "#  Deal.II Assistant"
   ]
  },
  {
   "cell_type": "code",
   "execution_count": 1,
   "id": "53826946",
   "metadata": {},
   "outputs": [],
   "source": [
    "# !pip install langchain langchain-community langchain-cohere langchain-chroma tiktoken gradio beautifulsoup4"
   ]
  },
  {
   "cell_type": "code",
   "execution_count": 2,
   "id": "3a17f111-e290-4ffc-b614-4d10e5673087",
   "metadata": {},
   "outputs": [],
   "source": [
    "from langchain.text_splitter import RecursiveCharacterTextSplitter\n",
    "from langchain_chroma import Chroma\n",
    "from langchain.load import dumps, loads\n",
    "import json\n",
    "import tiktoken\n",
    "#from langchain_community.document_loaders import RecursiveUrlLoader\n",
    "#from bs4 import BeautifulSoup as Soup"
   ]
  },
  {
   "cell_type": "code",
   "execution_count": 3,
   "id": "0383602d",
   "metadata": {},
   "outputs": [],
   "source": [
    "# Cohere api\n",
    "import os\n",
    "cohere_api = 'Your Cohere API Key'\n",
    "os.environ['COHERE_API_KEY'] = cohere_api"
   ]
  },
  {
   "cell_type": "code",
   "execution_count": 4,
   "id": "dc7dafe9-7e3b-4bb5-abeb-4c99b66f623b",
   "metadata": {},
   "outputs": [
    {
     "name": "stderr",
     "output_type": "stream",
     "text": [
      "C:\\Users\\mehdi\\AppData\\Local\\Temp\\ipykernel_27848\\2180031022.py:37: LangChainBetaWarning: The function `loads` is in beta. It is actively being worked on, so the API may change.\n",
      "  doc = loads(json.load(fp))\n"
     ]
    },
    {
     "name": "stdout",
     "output_type": "stream",
     "text": [
      "No. of webpages: 86\n",
      "No. of splitted documents: 11051\n",
      "No. of tokens: 2334034\n"
     ]
    }
   ],
   "source": [
    "def num_tokens_from_string(string: str, encoding_name: str) -> int:\n",
    "    \"\"\"Returns the number of tokens in a text string.\"\"\"\n",
    "    encoding = tiktoken.get_encoding(encoding_name)\n",
    "    num_tokens = len(encoding.encode(string))\n",
    "    return num_tokens\n",
    "\n",
    "\n",
    "urls = []\n",
    "for i in range(1,91):\n",
    "    if i not in [73,80,84,88]:\n",
    "        base_url = \"https://dealii.org/current/doxygen/deal.II/step_\"\n",
    "        url = base_url + str(i) + \".html\"\n",
    "        urls.append(url)\n",
    "#print(urls)\n",
    "\n",
    "\"\"\"\n",
    "docs = []\n",
    "for url in urls:\n",
    "    loader = RecursiveUrlLoader(url=url, max_depth=11, extractor=lambda x: Soup(x, \"html.parser\").text)\n",
    "\n",
    "    doc = loader.load()\n",
    "\n",
    "    docs.extend(doc)\n",
    "\n",
    "    string_representation = dumps(doc)\n",
    "\n",
    "    with open(\"./save_urls/step_\" + url[48:-5] + \".json\", \"w\") as fp:\n",
    "        json.dump(string_representation, fp)\n",
    "\n",
    "print(f\"No. of webpages: {len(docs)}\")\n",
    "\"\"\"\n",
    "\n",
    "docs = []\n",
    "for i in range(1,91):\n",
    "    if i not in [73,80,84,88]:\n",
    "        with open(\"./save_urls/step_\" + str(i) + \".json\", \"r\") as fp:\n",
    "            doc = loads(json.load(fp))\n",
    "            docs.extend(doc)\n",
    "\n",
    "print(f\"No. of webpages: {len(docs)}\")\n",
    "\n",
    "\n",
    "\n",
    "# Split the document into chunks\n",
    "splitter = RecursiveCharacterTextSplitter.from_tiktoken_encoder(chunk_size=400, chunk_overlap=40)\n",
    "splitted_docs = splitter.split_documents(docs)\n",
    "print(f\"No. of splitted documents: {len(splitted_docs)}\")\n",
    "\n",
    "\n",
    "# Calculate the number of tokens for each document\n",
    "docs_texts = [d.page_content for d in docs]\n",
    "counts = [num_tokens_from_string(d, \"cl100k_base\") for d in docs_texts]\n",
    "\n",
    "print(f\"No. of tokens: {sum(counts)}\")"
   ]
  },
  {
   "cell_type": "code",
   "execution_count": 5,
   "id": "90d05bac",
   "metadata": {},
   "outputs": [
    {
     "name": "stdout",
     "output_type": "stream",
     "text": [
      "sagemaker.config INFO - Not applying SDK defaults from location: C:\\ProgramData\\sagemaker\\sagemaker\\config.yaml\n",
      "sagemaker.config INFO - Not applying SDK defaults from location: C:\\Users\\mehdi\\AppData\\Local\\sagemaker\\sagemaker\\config.yaml\n"
     ]
    }
   ],
   "source": [
    "from langchain_cohere import CohereEmbeddings\n",
    "\n",
    "embedding_function = CohereEmbeddings(model=\"embed-english-v3.0\")\n",
    "\n",
    "db = Chroma(persist_directory='./dealii_db_400_40/', embedding_function=embedding_function)\n",
    "\n",
    "#db.delete_collection()\n",
    "\n",
    "#db = Chroma.from_documents(splitted_docs, embedding_function, persist_directory='./dealii_db_400_40')"
   ]
  },
  {
   "cell_type": "code",
   "execution_count": 6,
   "id": "a8c84f41",
   "metadata": {},
   "outputs": [],
   "source": [
    "from langchain_cohere import ChatCohere\n",
    "\n",
    "llm = ChatCohere(model='command-r', temperature=0.)"
   ]
  },
  {
   "cell_type": "code",
   "execution_count": 7,
   "id": "7f3c4839",
   "metadata": {},
   "outputs": [],
   "source": [
    "from langchain_core.prompts import ChatPromptTemplate\n",
    "from langchain_core.output_parsers import StrOutputParser\n",
    "from langchain.load import dumps, loads\n",
    "from operator import itemgetter\n",
    "import gradio as gr"
   ]
  },
  {
   "cell_type": "code",
   "execution_count": 8,
   "id": "81b99d2c",
   "metadata": {},
   "outputs": [],
   "source": [
    "def get_unique_union(documents: list[list]):\n",
    "    \"\"\" Unique union of retrieved docs \"\"\"\n",
    "    # Flatten list of lists, and convert each Document to string\n",
    "    flattened_docs = [dumps(doc) for sublist in documents for doc in sublist]\n",
    "    # Get unique documents\n",
    "    unique_docs = list(set(flattened_docs))\n",
    "    return [loads(doc) for doc in unique_docs]\n",
    "\n",
    "def create_history(history):\n",
    "    s = \"\"\n",
    "    for i in range(0, len(history), 2):\n",
    "        s += f'Question {i//2+1}: ' + history[i]['content'] + \"\\n\"\n",
    "        s += f'Answer {i//2+1}: ' + history[i+1]['content'] + \"\\n\"\n",
    "    return s\n",
    "\n",
    "def remove_empty_string(list_of_questions):\n",
    "    indices = []\n",
    "    for i, sentence in enumerate(list_of_questions):\n",
    "        if sentence == \"\":\n",
    "            indices.append(i)\n",
    "    for i in sorted(indices, reverse=True):\n",
    "        del list_of_questions[i]\n",
    "    return list_of_questions\n",
    "\n",
    "template1 = \"\"\"You are an expert assistant for question-answering tasks for deal.II library, \\\n",
    "an open-source C++ finite element library. The library website can be accessed at https://dealii.org. \\\n",
    "Use the following pieces of retrieved context and history of the conversation to answer the question. \\\n",
    "Provide the code examples where possible. If you don't know the answer, just say that you don't know. \\\n",
    "If you know the answer, cite the source of your answer at the end. REMEMBER to add the sources of your answers at the end.\n",
    "\n",
    "Question: {question}\n",
    "\n",
    "Context: {context}\n",
    "\n",
    "History of questions and answers between user and assistant: {history}\n",
    "\n",
    "Answer:\n",
    "\"\"\"\n",
    "prompt1 = ChatPromptTemplate.from_template(template1)\n",
    "\n",
    "template2 = \"\"\"You are an expert assistant for question-answering tasks for a finite element library. \\\n",
    "Using this library, one can numerically solve ordinary differential equations \\\n",
    "and partial differential equations on mathematical domains for variety of problems. \\\n",
    "Your task is to generate five different versions of the given question. \\\n",
    "JUST output each question in one line. Add the original question also. \\\n",
    "Nothing else should be mentioned in the output, just questions separated by newlines.\n",
    "\n",
    "Question: {question}\n",
    "\"\"\"\n",
    "\n",
    "prompt2 = ChatPromptTemplate.from_template(template2)\n",
    "\n",
    "template3 = \"\"\"Given a chat history and the latest user question \\\n",
    "which might reference context in the chat history, \\\n",
    "reformulate a standalone question which can be understood \\\n",
    "without the chat history. Do NOT answer the question, \\\n",
    "just reformulate it if needed and otherwise return it as is. \\\n",
    "Do not return anything else.\n",
    "\n",
    "Question: {question}\n",
    "\n",
    "History of questions and answers between user and assistant: {history}\n",
    "\"\"\"\n",
    "prompt3 = ChatPromptTemplate.from_template(template3)\n",
    "\n",
    "base_retriever = db.as_retriever()\n",
    "\n",
    "reformulate_chain = prompt3 | llm | StrOutputParser()\n",
    "\n",
    "multi_question_chain = prompt2 | llm | StrOutputParser() | (lambda x: x.split(\"\\n\")) | remove_empty_string\n",
    "\n",
    "retrieval_chain = reformulate_chain | multi_question_chain | base_retriever.map() | get_unique_union\n",
    "\n",
    "rag_chain = (\n",
    "    {\"context\": retrieval_chain, \"question\": reformulate_chain, \"history\": itemgetter('history')}\n",
    "    | prompt1\n",
    "    | llm\n",
    "    | StrOutputParser()\n",
    ")\n"
   ]
  },
  {
   "cell_type": "code",
   "execution_count": 9,
   "id": "45171351",
   "metadata": {},
   "outputs": [
    {
     "name": "stdout",
     "output_type": "stream",
     "text": [
      "* Running on local URL:  http://127.0.0.1:7871\n",
      "\n",
      "To create a public link, set `share=True` in `launch()`.\n"
     ]
    },
    {
     "data": {
      "text/html": [
       "<div><iframe src=\"http://127.0.0.1:7871/\" width=\"100%\" height=\"500\" allow=\"autoplay; camera; microphone; clipboard-read; clipboard-write;\" frameborder=\"0\" allowfullscreen></iframe></div>"
      ],
      "text/plain": [
       "<IPython.core.display.HTML object>"
      ]
     },
     "metadata": {},
     "output_type": "display_data"
    },
    {
     "data": {
      "text/plain": []
     },
     "execution_count": 9,
     "metadata": {},
     "output_type": "execute_result"
    }
   ],
   "source": [
    "def response_function(message, history):\n",
    "    history_str = create_history(history)\n",
    "\n",
    "    partial_message = \"\"\n",
    "    for s in rag_chain.stream({'question': message, 'history': history_str}):\n",
    "        partial_message += s\n",
    "        yield partial_message\n",
    "\n",
    "examples = [\"How can you help me?\", \"What is FE_Nothing?\", \"How to write a loop over all cells?\", \"How to construct Lagrange elements?\", \"What is a preconditioner?\"]\n",
    "\n",
    "description = \"This assistant helps with questions about the functionality of the deal.II library, including its applications, use cases, and specific functions or classes. It draws information from all 90 tutorials in the deal.II documentation but does not cover the entire documentation.\"\n",
    "\n",
    "gr.ChatInterface(response_function, type=\"messages\", title=\"deal.II Assistant\", description=description, examples=examples).launch() #share=True\n"
   ]
  },
  {
   "cell_type": "code",
   "execution_count": 10,
   "id": "c5ea183e",
   "metadata": {},
   "outputs": [],
   "source": [
    "question = \"what is FE_Nothing?\"\n",
    "\n",
    "history = []\n",
    "history_str = create_history(history)\n",
    "\n",
    "result1 = rag_chain.invoke({'question': question, 'history': history_str})\n",
    "\n",
    "history.append({\"role\": \"user\", \"content\": question})\n",
    "history.append({\"role\": \"assistant\", \"content\": result1})\n",
    "\n",
    "question2 = \"where can i use it?\"\n",
    "\n",
    "history_str = create_history(history)\n",
    "\n",
    "result2 = rag_chain.invoke({'question': question2, 'history': history_str})\n",
    "\n",
    "history.append({\"role\": \"user\", \"content\": question2})\n",
    "history.append({\"role\": \"assistant\", \"content\": result2})"
   ]
  },
  {
   "cell_type": "markdown",
   "id": "e36c9e44-c166-4724-a1a9-98dfde0721d7",
   "metadata": {},
   "source": [
    "## Answers:"
   ]
  },
  {
   "cell_type": "code",
   "execution_count": 11,
   "id": "0afa06ba",
   "metadata": {},
   "outputs": [
    {
     "name": "stdout",
     "output_type": "stream",
     "text": [
      "The term \"FE_Nothing\" refers to a special finite element class in deal.II with exactly zero degrees of freedom per cell. A cell in this context is a small region into which the solution domain is divided -- the finite element is the basic unit for the approximation of solutions to problems. \n",
      "\n",
      "The FE_Nothing class is used when no computations with shape functions are required, only the JxW values from an FEValues object. Using FE_Nothing allows one to take advantage of a uniform description of the solution domain, which enables certain simplifications in the code. For instance, counting degrees of freedom, sorting them, or partitioning matrices become simpler when using FE_Nothing. This class is also useful for creating easy graphical outputs, as all fields are defined on all nodes of the mesh, which is not the case for other finite element classes in deal.II. \n",
      "\n",
      "Here is an example of how FE_Nothing is implemented in the code:\n",
      "```cpp\n",
      "const MappingQ<dim> mapping(degree);\n",
      "const FE_Nothing<dim> fe;\n",
      "```\n",
      "The first line creates a MappingQ object, and the second line defines the finite element used in the problem, which has no degrees of freedom.\n",
      "\n",
      "Sources: https://dealii.org/current/doxygen/deal.II/step_10.html , https://dealii.org/current/doxygen/deal.II/step_46.html\n"
     ]
    }
   ],
   "source": [
    "print(result1)"
   ]
  },
  {
   "cell_type": "code",
   "execution_count": 12,
   "id": "efb52c5d",
   "metadata": {},
   "outputs": [
    {
     "name": "stdout",
     "output_type": "stream",
     "text": [
      "The FE_Nothing class is used when the function space of the solution domain requires no degrees of freedom, meaning it is a constant zero function. This class is useful for simplifying certain operations, such as counting degrees of freedom, sorting, or partitioning matrices. It also makes creating graphical outputs easier since the fields are defined on all the nodes of the mesh.\n",
      "\n",
      "Here's an example of how to implement it:\n",
      "```cpp\n",
      "const MappingQ<dim> mapping(degree);\n",
      "const FE_Nothing<dim> fe;\n",
      "```\n",
      "\n",
      "The FE_Nothing class is declared in the following include file:\n",
      "```cpp\n",
      "#include <deal.II/fe/fe_nothing.h>\n",
      "```\n",
      "\n",
      "Sources: https://dealii.org/current/doxygen/deal.II/step_46.html , https://dealii.org/current/doxygen/deal.II/step_10.html\n"
     ]
    }
   ],
   "source": [
    "print(result2)"
   ]
  },
  {
   "cell_type": "code",
   "execution_count": null,
   "id": "af5e2b12",
   "metadata": {},
   "outputs": [],
   "source": []
  }
 ],
 "metadata": {
  "kernelspec": {
   "display_name": "vector_db",
   "language": "python",
   "name": "python3"
  },
  "language_info": {
   "codemirror_mode": {
    "name": "ipython",
    "version": 3
   },
   "file_extension": ".py",
   "mimetype": "text/x-python",
   "name": "python",
   "nbconvert_exporter": "python",
   "pygments_lexer": "ipython3",
   "version": "3.10.14"
  }
 },
 "nbformat": 4,
 "nbformat_minor": 5
}
